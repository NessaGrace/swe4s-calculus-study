{
 "cells": [
  {
   "cell_type": "markdown",
   "id": "d4c2bfcf",
   "metadata": {},
   "source": [
    "# Overall Project Description\n",
    "\n",
    "## Rationale\n",
    "\n",
    "## Study Design\n",
    "\n",
    "## Goals\n",
    "\n",
    "## Software Summary\n",
    "\n",
    "## Survey Data Simulator\n",
    "\n",
    "## Survey Data Analyzer\n",
    "\n",
    "## Interview Data Simulator\n",
    "\n",
    "## Interview Data Analyzer"
   ]
  }
 ],
 "metadata": {
  "kernelspec": {
   "display_name": "Python 3 (ipykernel)",
   "language": "python",
   "name": "python3"
  },
  "language_info": {
   "codemirror_mode": {
    "name": "ipython",
    "version": 3
   },
   "file_extension": ".py",
   "mimetype": "text/x-python",
   "name": "python",
   "nbconvert_exporter": "python",
   "pygments_lexer": "ipython3",
   "version": "3.9.12"
  }
 },
 "nbformat": 4,
 "nbformat_minor": 5
}
